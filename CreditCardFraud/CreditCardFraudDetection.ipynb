{
 "cells": [
  {
   "cell_type": "code",
   "execution_count": 1,
   "metadata": {},
   "outputs": [],
   "source": [
    "import pandas as pd"
   ]
  },
  {
   "cell_type": "code",
   "execution_count": 2,
   "metadata": {},
   "outputs": [],
   "source": [
    "df=pd.read_csv(\"CreditCardFraudDataset.csv\")\n"
   ]
  },
  {
   "cell_type": "code",
   "execution_count": 3,
   "metadata": {},
   "outputs": [
    {
     "data": {
      "text/html": [
       "<div>\n",
       "<style>\n",
       "    .dataframe thead tr:only-child th {\n",
       "        text-align: right;\n",
       "    }\n",
       "\n",
       "    .dataframe thead th {\n",
       "        text-align: left;\n",
       "    }\n",
       "\n",
       "    .dataframe tbody tr th {\n",
       "        vertical-align: top;\n",
       "    }\n",
       "</style>\n",
       "<table border=\"1\" class=\"dataframe\">\n",
       "  <thead>\n",
       "    <tr style=\"text-align: right;\">\n",
       "      <th></th>\n",
       "      <th>label</th>\n",
       "      <th>x1</th>\n",
       "      <th>x10</th>\n",
       "      <th>x11</th>\n",
       "      <th>x12</th>\n",
       "      <th>x13</th>\n",
       "      <th>x14</th>\n",
       "      <th>x15</th>\n",
       "      <th>x16</th>\n",
       "      <th>x17</th>\n",
       "      <th>...</th>\n",
       "      <th>x19</th>\n",
       "      <th>x2</th>\n",
       "      <th>x20</th>\n",
       "      <th>x3</th>\n",
       "      <th>x4</th>\n",
       "      <th>x5</th>\n",
       "      <th>x6</th>\n",
       "      <th>x7</th>\n",
       "      <th>x8</th>\n",
       "      <th>x9</th>\n",
       "    </tr>\n",
       "  </thead>\n",
       "  <tbody>\n",
       "    <tr>\n",
       "      <th>0</th>\n",
       "      <td>0</td>\n",
       "      <td>5.284041</td>\n",
       "      <td>-5.624067</td>\n",
       "      <td>8.605521</td>\n",
       "      <td>8.544963</td>\n",
       "      <td>0.997656</td>\n",
       "      <td>-2.431120</td>\n",
       "      <td>-6.275338</td>\n",
       "      <td>4.107149</td>\n",
       "      <td>3.293856</td>\n",
       "      <td>...</td>\n",
       "      <td>0.347794</td>\n",
       "      <td>-8.183866</td>\n",
       "      <td>4.996699</td>\n",
       "      <td>4.427122</td>\n",
       "      <td>5.770638</td>\n",
       "      <td>0.480753</td>\n",
       "      <td>3.094189</td>\n",
       "      <td>7.081126</td>\n",
       "      <td>6.002156</td>\n",
       "      <td>-3.967035</td>\n",
       "    </tr>\n",
       "    <tr>\n",
       "      <th>1</th>\n",
       "      <td>0</td>\n",
       "      <td>6.437503</td>\n",
       "      <td>-7.159333</td>\n",
       "      <td>9.053143</td>\n",
       "      <td>8.086666</td>\n",
       "      <td>1.329195</td>\n",
       "      <td>-2.723613</td>\n",
       "      <td>-6.640894</td>\n",
       "      <td>5.763606</td>\n",
       "      <td>4.913189</td>\n",
       "      <td>...</td>\n",
       "      <td>2.292314</td>\n",
       "      <td>-9.030801</td>\n",
       "      <td>5.277635</td>\n",
       "      <td>4.661947</td>\n",
       "      <td>4.724572</td>\n",
       "      <td>-1.487967</td>\n",
       "      <td>4.117871</td>\n",
       "      <td>6.226025</td>\n",
       "      <td>4.423981</td>\n",
       "      <td>-3.636292</td>\n",
       "    </tr>\n",
       "    <tr>\n",
       "      <th>2</th>\n",
       "      <td>1</td>\n",
       "      <td>8.166886</td>\n",
       "      <td>-4.391264</td>\n",
       "      <td>2.939584</td>\n",
       "      <td>11.713214</td>\n",
       "      <td>-9.027539</td>\n",
       "      <td>-1.926944</td>\n",
       "      <td>5.705792</td>\n",
       "      <td>-9.100228</td>\n",
       "      <td>3.510292</td>\n",
       "      <td>...</td>\n",
       "      <td>9.123164</td>\n",
       "      <td>-8.608870</td>\n",
       "      <td>-7.180589</td>\n",
       "      <td>7.271488</td>\n",
       "      <td>8.303158</td>\n",
       "      <td>3.169812</td>\n",
       "      <td>-9.202563</td>\n",
       "      <td>3.827041</td>\n",
       "      <td>-8.805153</td>\n",
       "      <td>2.008317</td>\n",
       "    </tr>\n",
       "    <tr>\n",
       "      <th>3</th>\n",
       "      <td>2</td>\n",
       "      <td>1.254873</td>\n",
       "      <td>4.118066</td>\n",
       "      <td>5.537918</td>\n",
       "      <td>8.876809</td>\n",
       "      <td>-0.132293</td>\n",
       "      <td>1.401491</td>\n",
       "      <td>8.221282</td>\n",
       "      <td>1.733626</td>\n",
       "      <td>-6.681623</td>\n",
       "      <td>...</td>\n",
       "      <td>7.478738</td>\n",
       "      <td>3.088228</td>\n",
       "      <td>-0.154700</td>\n",
       "      <td>7.912234</td>\n",
       "      <td>6.746198</td>\n",
       "      <td>1.690053</td>\n",
       "      <td>-2.374711</td>\n",
       "      <td>4.662912</td>\n",
       "      <td>-6.455187</td>\n",
       "      <td>6.950636</td>\n",
       "    </tr>\n",
       "    <tr>\n",
       "      <th>4</th>\n",
       "      <td>2</td>\n",
       "      <td>-0.150247</td>\n",
       "      <td>3.668403</td>\n",
       "      <td>3.117548</td>\n",
       "      <td>10.215816</td>\n",
       "      <td>1.028585</td>\n",
       "      <td>0.872204</td>\n",
       "      <td>9.479030</td>\n",
       "      <td>1.815946</td>\n",
       "      <td>-7.709055</td>\n",
       "      <td>...</td>\n",
       "      <td>6.991231</td>\n",
       "      <td>5.737318</td>\n",
       "      <td>1.657778</td>\n",
       "      <td>7.367953</td>\n",
       "      <td>7.575167</td>\n",
       "      <td>0.255117</td>\n",
       "      <td>-4.281959</td>\n",
       "      <td>6.023513</td>\n",
       "      <td>-8.385214</td>\n",
       "      <td>7.106542</td>\n",
       "    </tr>\n",
       "  </tbody>\n",
       "</table>\n",
       "<p>5 rows × 21 columns</p>\n",
       "</div>"
      ],
      "text/plain": [
       "   label        x1       x10       x11        x12       x13       x14  \\\n",
       "0      0  5.284041 -5.624067  8.605521   8.544963  0.997656 -2.431120   \n",
       "1      0  6.437503 -7.159333  9.053143   8.086666  1.329195 -2.723613   \n",
       "2      1  8.166886 -4.391264  2.939584  11.713214 -9.027539 -1.926944   \n",
       "3      2  1.254873  4.118066  5.537918   8.876809 -0.132293  1.401491   \n",
       "4      2 -0.150247  3.668403  3.117548  10.215816  1.028585  0.872204   \n",
       "\n",
       "        x15       x16       x17    ...          x19        x2       x20  \\\n",
       "0 -6.275338  4.107149  3.293856    ...     0.347794 -8.183866  4.996699   \n",
       "1 -6.640894  5.763606  4.913189    ...     2.292314 -9.030801  5.277635   \n",
       "2  5.705792 -9.100228  3.510292    ...     9.123164 -8.608870 -7.180589   \n",
       "3  8.221282  1.733626 -6.681623    ...     7.478738  3.088228 -0.154700   \n",
       "4  9.479030  1.815946 -7.709055    ...     6.991231  5.737318  1.657778   \n",
       "\n",
       "         x3        x4        x5        x6        x7        x8        x9  \n",
       "0  4.427122  5.770638  0.480753  3.094189  7.081126  6.002156 -3.967035  \n",
       "1  4.661947  4.724572 -1.487967  4.117871  6.226025  4.423981 -3.636292  \n",
       "2  7.271488  8.303158  3.169812 -9.202563  3.827041 -8.805153  2.008317  \n",
       "3  7.912234  6.746198  1.690053 -2.374711  4.662912 -6.455187  6.950636  \n",
       "4  7.367953  7.575167  0.255117 -4.281959  6.023513 -8.385214  7.106542  \n",
       "\n",
       "[5 rows x 21 columns]"
      ]
     },
     "execution_count": 3,
     "metadata": {},
     "output_type": "execute_result"
    }
   ],
   "source": [
    "df.head()"
   ]
  },
  {
   "cell_type": "code",
   "execution_count": 12,
   "metadata": {},
   "outputs": [],
   "source": [
    "\n",
    "x=df.drop(['label'], axis=1)\n",
    "y=df.label\n",
    "colNames=x.columns"
   ]
  },
  {
   "cell_type": "code",
   "execution_count": 29,
   "metadata": {},
   "outputs": [],
   "source": [
    "from sklearn.ensemble import RandomForestClassifier\n",
    "from sklearn.feature_selection import RFE\n",
    "clf = RandomForestClassifier(n_jobs=2)\n",
    "rfe = RFE(estimator=clf, n_features_to_select=3, step=1)\n",
    "rfe.fit(x, y)\n",
    "X_rfe=rfe.transform(x)\n",
    "true=rfe.support_\n",
    "rfecolindex=[i for i, x in enumerate(true) if x]\n",
    "rfecolname=list(colNames[i] for i in rfecolindex)"
   ]
  },
  {
   "cell_type": "code",
   "execution_count": 30,
   "metadata": {},
   "outputs": [
    {
     "name": "stdout",
     "output_type": "stream",
     "text": [
      "Features selected : ['x15', 'x2', 'x6']\n"
     ]
    }
   ],
   "source": [
    "print('Features selected :',rfecolname)"
   ]
  },
  {
   "cell_type": "code",
   "execution_count": 31,
   "metadata": {},
   "outputs": [],
   "source": [
    "from sklearn.model_selection import  train_test_split\n",
    "X1_train, X1_test, y1_train, y1_test = train_test_split(\n",
    "    X_rfe, y, test_size=0.33, random_state=42)"
   ]
  },
  {
   "cell_type": "code",
   "execution_count": 32,
   "metadata": {},
   "outputs": [],
   "source": [
    "clf=RandomForestClassifier(n_estimators=10, criterion='gini', max_depth=None, min_samples_split=2,\n",
    "                           min_samples_leaf=1, min_weight_fraction_leaf=0.0, max_features='auto',\n",
    "                           max_leaf_nodes=None, min_impurity_decrease=0.0, min_impurity_split=None,\n",
    "                           bootstrap=True, oob_score=False, n_jobs=1, random_state=None, verbose=0,\n",
    "                           warm_start=False, class_weight=None)"
   ]
  },
  {
   "cell_type": "code",
   "execution_count": 33,
   "metadata": {},
   "outputs": [
    {
     "data": {
      "text/plain": [
       "RandomForestClassifier(bootstrap=True, class_weight=None, criterion='gini',\n",
       "            max_depth=None, max_features='auto', max_leaf_nodes=None,\n",
       "            min_impurity_decrease=0.0, min_impurity_split=None,\n",
       "            min_samples_leaf=1, min_samples_split=2,\n",
       "            min_weight_fraction_leaf=0.0, n_estimators=10, n_jobs=1,\n",
       "            oob_score=False, random_state=None, verbose=0,\n",
       "            warm_start=False)"
      ]
     },
     "execution_count": 33,
     "metadata": {},
     "output_type": "execute_result"
    }
   ],
   "source": [
    "clf.fit(X1_train,y1_train)"
   ]
  },
  {
   "cell_type": "code",
   "execution_count": 34,
   "metadata": {},
   "outputs": [],
   "source": [
    "y1_pred=clf.predict(X1_test)"
   ]
  },
  {
   "cell_type": "code",
   "execution_count": 35,
   "metadata": {},
   "outputs": [
    {
     "data": {
      "text/html": [
       "<div>\n",
       "<style>\n",
       "    .dataframe thead tr:only-child th {\n",
       "        text-align: right;\n",
       "    }\n",
       "\n",
       "    .dataframe thead th {\n",
       "        text-align: left;\n",
       "    }\n",
       "\n",
       "    .dataframe tbody tr th {\n",
       "        vertical-align: top;\n",
       "    }\n",
       "</style>\n",
       "<table border=\"1\" class=\"dataframe\">\n",
       "  <thead>\n",
       "    <tr style=\"text-align: right;\">\n",
       "      <th>Predicted attacks</th>\n",
       "      <th>0</th>\n",
       "      <th>1</th>\n",
       "      <th>2</th>\n",
       "    </tr>\n",
       "    <tr>\n",
       "      <th>Actual attacks</th>\n",
       "      <th></th>\n",
       "      <th></th>\n",
       "      <th></th>\n",
       "    </tr>\n",
       "  </thead>\n",
       "  <tbody>\n",
       "    <tr>\n",
       "      <th>0</th>\n",
       "      <td>10</td>\n",
       "      <td>0</td>\n",
       "      <td>0</td>\n",
       "    </tr>\n",
       "    <tr>\n",
       "      <th>1</th>\n",
       "      <td>0</td>\n",
       "      <td>15</td>\n",
       "      <td>0</td>\n",
       "    </tr>\n",
       "    <tr>\n",
       "      <th>2</th>\n",
       "      <td>0</td>\n",
       "      <td>0</td>\n",
       "      <td>8</td>\n",
       "    </tr>\n",
       "  </tbody>\n",
       "</table>\n",
       "</div>"
      ],
      "text/plain": [
       "Predicted attacks   0   1  2\n",
       "Actual attacks              \n",
       "0                  10   0  0\n",
       "1                   0  15  0\n",
       "2                   0   0  8"
      ]
     },
     "execution_count": 35,
     "metadata": {},
     "output_type": "execute_result"
    }
   ],
   "source": [
    "pd.crosstab(y1_test, y1_pred, rownames=['Actual attacks'], colnames=['Predicted attacks'])"
   ]
  },
  {
   "cell_type": "code",
   "execution_count": 36,
   "metadata": {},
   "outputs": [
    {
     "name": "stdout",
     "output_type": "stream",
     "text": [
      "Model evaluation\n",
      "             precision    recall  f1-score   support\n",
      "\n",
      "          0       1.00      1.00      1.00        10\n",
      "          1       1.00      1.00      1.00        15\n",
      "          2       1.00      1.00      1.00         8\n",
      "\n",
      "avg / total       1.00      1.00      1.00        33\n",
      "\n"
     ]
    }
   ],
   "source": [
    "from sklearn.metrics import classification_report \n",
    "print(\"Model evaluation\\n\"+classification_report(y1_test,y1_pred))"
   ]
  },
  {
   "cell_type": "code",
   "execution_count": 37,
   "metadata": {},
   "outputs": [
    {
     "name": "stdout",
     "output_type": "stream",
     "text": [
      "Automatically created module for IPython interactive environment\n"
     ]
    },
    {
     "name": "stderr",
     "output_type": "stream",
     "text": [
      "/home/hamza/.local/lib/python3.6/site-packages/sklearn/model_selection/_split.py:605: Warning: The least populated class in y has only 8 members, which is too few. The minimum number of members in any class cannot be less than n_splits=10.\n",
      "  % (min_groups, self.n_splits)), Warning)\n"
     ]
    },
    {
     "data": {
      "image/png": "[encoded data removed]",
      "text/plain": [
       "<matplotlib.figure.Figure at 0x7fb386bce8d0>"
      ]
     },
     "metadata": {},
     "output_type": "display_data"
    }
   ],
   "source": [
    "print(__doc__)\n",
    "\n",
    "import matplotlib.pyplot as plt\n",
    "from sklearn.feature_selection import RFECV\n",
    "from sklearn.model_selection import StratifiedKFold\n",
    "\n",
    "# Create the RFE object and compute a cross-validated score.\n",
    "# The \"accuracy\" scoring is proportional to the number of correct\n",
    "# classifications\n",
    "rfecv = RFECV(estimator=clf, step=1, cv=10, scoring='accuracy')\n",
    "rfecv.fit(X1_test, y1_test)\n",
    "# Plot number of features VS. cross-validation scores\n",
    "plt.figure()\n",
    "plt.xlabel(\"Number of features selected\")\n",
    "plt.ylabel(\"Cross validation score (nb of correct classifications)\")\n",
    "plt.title('RFECV')\n",
    "plt.plot(range(1, len(rfecv.grid_scores_) + 1), rfecv.grid_scores_)\n",
    "plt.show()"
   ]
  },
  {
   "cell_type": "code",
   "execution_count": 38,
   "metadata": {},
   "outputs": [],
   "source": [
    "from sklearn.model_selection import cross_val_score\n",
    "clf1=RandomForestClassifier(n_estimators=10, criterion='gini', max_depth=None, min_samples_split=2,\n",
    "                           min_samples_leaf=1, min_weight_fraction_leaf=0.0, max_features='auto',\n",
    "                           max_leaf_nodes=None, min_impurity_decrease=0.0, min_impurity_split=None,\n",
    "                           bootstrap=True, oob_score=False, n_jobs=1, random_state=None, verbose=0,\n",
    "                           warm_start=False, class_weight=None)\n",
    "scores = cross_val_score(clf, X_rfe, y, cv=10)"
   ]
  },
  {
   "cell_type": "code",
   "execution_count": 27,
   "metadata": {},
   "outputs": [
    {
     "name": "stdout",
     "output_type": "stream",
     "text": [
      "Accuracy: 1.00000 (+/- 0.00000)\n"
     ]
    }
   ],
   "source": [
    "print(\"Accuracy: %0.5f (+/- %0.5f)\" % (scores.mean(), scores.std() * 2))"
   ]
  },
  {
   "cell_type": "code",
   "execution_count": null,
   "metadata": {},
   "outputs": [],
   "source": []
  }
 ],
 "metadata": {
  "kernelspec": {
   "display_name": "Python 3",
   "language": "python",
   "name": "python3"
  },
  "language_info": {
   "codemirror_mode": {
    "name": "ipython",
    "version": 3
   },
   "file_extension": ".py",
   "mimetype": "text/x-python",
   "name": "python",
   "nbconvert_exporter": "python",
   "pygments_lexer": "ipython3",
   "version": "3.6.3"
  }
 },
 "nbformat": 4,
 "nbformat_minor": 2
}
